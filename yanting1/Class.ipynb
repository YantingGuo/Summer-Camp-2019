{
 "cells": [
  {
   "cell_type": "code",
   "execution_count": null,
   "metadata": {},
   "outputs": [],
   "source": [
    "类是一个函数包，类中可以放置函数和变量，类中的函数可以很方便的使用类中的变量\n",
    "类中的函数叫方法，类中的变量叫属性\n",
    "参数是在定义函数的时候，需要传递给类方法的东西，比如下面的默认参数self，手动传递参数 height，weight\n",
    "在调用类方法的时候，需要手动设置一个参数，如果没有设置参数或者参数设置多了，都会报错\n",
    "在同一个类里面，不同方法之间，还可以实现方法的调用\n",
    "类外部调用类属性或方法：\n",
    "调用类属性：实例名.属性\n",
    "调用类方法：实例名.方法()\n",
    "类内部调用类属性或方法：\n",
    "self.属性名\n",
    "self.方法名()\n",
    "self:定义时不能丢，调用时要忽略。\n",
    "self的作用是接收实例化过程中传入的数据，当实例对象创建后，实例便会代替self，在代码中运行。\n",
    "self.前缀的类属性和类方法叫实例属性和\n"
   ]
  },
  {
   "cell_type": "code",
   "execution_count": 29,
   "metadata": {},
   "outputs": [],
   "source": [
    "class Chinese:\n",
    "    def __init__(self,hometown,region):\n",
    "        self.hometown = hometown\n",
    "        self.region = region\n",
    "        print('程序持续更新中')\n",
    "    def born(self):\n",
    "        print('我生在%s.'%(self.hometown))\n",
    "    def live(self):\n",
    "        self.born()\n",
    "        print('我在%s.'%(self.region))       \n",
    "    "
   ]
  },
  {
   "cell_type": "code",
   "execution_count": 31,
   "metadata": {},
   "outputs": [
    {
     "name": "stdout",
     "output_type": "stream",
     "text": [
      "程序持续更新中\n",
      "我生在广东.\n",
      "我在深圳.\n"
     ]
    }
   ],
   "source": [
    "n = Chinese('广东','深圳')\n",
    "n.live()"
   ]
  },
  {
   "cell_type": "code",
   "execution_count": 14,
   "metadata": {},
   "outputs": [],
   "source": [
    "class People:\n",
    "    def __init__(self, height, weight):\n",
    "        self.height = height\n",
    "        self.weight = weight\n",
    "    def eat_food(self):\n",
    "        print('people is eating food')\n",
    "    def sleep(self):\n",
    "        print('people is sleeping!')\n",
    "    def talk(self):\n",
    "        print(f'height {self.height} and weight {self.weight} is taling with you!')"
   ]
  },
  {
   "cell_type": "code",
   "execution_count": 18,
   "metadata": {},
   "outputs": [],
   "source": [
    "class Girl(People): # 继承父类people\n",
    "    _sex = '女生'\n",
    "    def __init__(self,name,age,height,weight):\n",
    "        People.__init__(self,height,weight) # 子类调用父类， 1 and 2 赋值给height 和 weight。 如果不加这一句，子类已经有新的初始化函数\n",
    "        self.name = name          # 那父类的初始化函数相当于被重写， 即父类的初始化函数将不再调用。就不会继承父类的属性。\n",
    "        self.age = age\n",
    "    def eat_food(self):\n",
    "        print('girl is eating')\n",
    "    def sleep(self):\n",
    "        print('girl is sleeping')"
   ]
  },
  {
   "cell_type": "code",
   "execution_count": 20,
   "metadata": {},
   "outputs": [
    {
     "name": "stdout",
     "output_type": "stream",
     "text": [
      "girl is eating\n",
      "girl is sleeping\n",
      "height 161 and weight 90 is taling with you!\n"
     ]
    }
   ],
   "source": [
    "n = Girl('小红', 17, 161, 90) # 将 Girl实例化，赋值给n\n",
    "n.eat_food()\n",
    "n.sleep()\n",
    "n.talk()"
   ]
  },
  {
   "cell_type": "markdown",
   "metadata": {},
   "source": [
    "多重继承 : 就近继承属性和行为 "
   ]
  },
  {
   "cell_type": "code",
   "execution_count": 27,
   "metadata": {},
   "outputs": [],
   "source": [
    "class C0:\n",
    "    name = 'C0'\n",
    "class C1(C0):\n",
    "    num = 1 # C1 继承 C0， name 改写\n",
    "class C2(C0):\n",
    "    num = 2\n",
    "    name = 30 # C2 继承 CO， 新加num, 改写 name\n",
    "class C3(C0):\n",
    "    num = 3\n",
    "class C4(C1,C2,C3):# C4 继承 C1, C2, C3\n",
    "    pass\n",
    "class C5(C3): # C5 继承 C3\n",
    "    pass\n"
   ]
  },
  {
   "cell_type": "code",
   "execution_count": 28,
   "metadata": {},
   "outputs": [
    {
     "name": "stdout",
     "output_type": "stream",
     "text": [
      "30 1\n",
      "C0 3\n"
     ]
    }
   ],
   "source": [
    "c = C4()\n",
    "b = C5()\n",
    "print(c.name,c.num) #30,1 先从C1找，找不到的话就接着往C2找，找到了就返回\n",
    "print(b.name,b.num) # C0, 3 因为C3没有name 属性，所以就从父类找"
   ]
  },
  {
   "cell_type": "code",
   "execution_count": null,
   "metadata": {},
   "outputs": [],
   "source": []
  }
 ],
 "metadata": {
  "kernelspec": {
   "display_name": "Python 3",
   "language": "python",
   "name": "python3"
  },
  "language_info": {
   "codemirror_mode": {
    "name": "ipython",
    "version": 3
   },
   "file_extension": ".py",
   "mimetype": "text/x-python",
   "name": "python",
   "nbconvert_exporter": "python",
   "pygments_lexer": "ipython3",
   "version": "3.7.3"
  }
 },
 "nbformat": 4,
 "nbformat_minor": 2
}
