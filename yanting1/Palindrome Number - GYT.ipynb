{
 "cells": [
  {
   "cell_type": "markdown",
   "metadata": {},
   "source": [
    "# Palindrome Numer"
   ]
  },
  {
   "cell_type": "markdown",
   "metadata": {},
   "source": [
    "## Ideas"
   ]
  },
  {
   "cell_type": "markdown",
   "metadata": {},
   "source": [
    "At first, there are many special situation need to be comsidered:"
   ]
  },
  {
   "cell_type": "markdown",
   "metadata": {},
   "source": [
    "1 x <0 return false\n",
    "2 x is n times as large as 10 return false"
   ]
  },
  {
   "cell_type": "markdown",
   "metadata": {},
   "source": [
    "Then, we can go back to our main direction, if one number could be read the same backward as forward, it is palindrome number.\n",
    "How can we ensure it is?\n",
    "Reverting the number itself, and then compare the number with original number, if they are the same, then the number is a palindrome. However, if the reversed number is larger than int.MAX, we will hit integer overflow problem."
   ]
  },
  {
   "cell_type": "markdown",
   "metadata": {},
   "source": [
    "So it is possible to only revert half of the number, the reverted last half should be same as the first half."
   ]
  },
  {
   "cell_type": "markdown",
   "metadata": {},
   "source": [
    "Formula for the reversted number is :\n",
    "last digit = x%10\n",
    "second digit = (x/10)%10\n",
    "so on so forth"
   ]
  },
  {
   "cell_type": "markdown",
   "metadata": {},
   "source": [
    "Since we don't know how long the number is,it suggested to write a while loop, to avoid overflow problem, the condition should be x > reversed number.\n",
    "there are two ways to get the result.\n",
    "first, insert determine clause in loop, when reversed number changes or x changes, determine whether they are the same.\n",
    "second, add a determine clause at the end. \n",
    "if the input number is an even, then compare it to reversed number\n",
    "if the input number is an odd, then compare it to reversd number/10\n",
    "so we can use 'or' to include two situation."
   ]
  },
  {
   "cell_type": "markdown",
   "metadata": {},
   "source": [
    "## Codes"
   ]
  },
  {
   "cell_type": "code",
   "execution_count": 5,
   "metadata": {},
   "outputs": [],
   "source": [
    "def isPalindrome1(x):\n",
    "    if x < 0 or x % 10 == 0:\n",
    "        return False\n",
    "    reversedNumber = 0\n",
    "    while x > reversedNumber:\n",
    "        reversedNumber = reversedNumber*10 + x % 10\n",
    "        if x == reversedNumber:\n",
    "            return True\n",
    "        x /= 10\n",
    "        if x == reversedNumber:\n",
    "            return True\n",
    "    return(x == reversedNumber) "
   ]
  },
  {
   "cell_type": "code",
   "execution_count": 6,
   "metadata": {},
   "outputs": [
    {
     "data": {
      "text/plain": [
       "False"
      ]
     },
     "execution_count": 6,
     "metadata": {},
     "output_type": "execute_result"
    }
   ],
   "source": [
    "isPalindrome1(12321)"
   ]
  },
  {
   "cell_type": "code",
   "execution_count": 7,
   "metadata": {},
   "outputs": [],
   "source": [
    "def isPalindrome2(x):\n",
    "    if x < 0 or x % 10 == 0:\n",
    "        return False\n",
    "    reversedNumber = 0\n",
    "    while x > reversedNumber:\n",
    "        reversedNumber = reversedNumber*10 + x % 10\n",
    "        x /= 10\n",
    "    return x == reversedNumber or x == reversedNumber /10"
   ]
  },
  {
   "cell_type": "code",
   "execution_count": 8,
   "metadata": {},
   "outputs": [
    {
     "data": {
      "text/plain": [
       "False"
      ]
     },
     "execution_count": 8,
     "metadata": {},
     "output_type": "execute_result"
    }
   ],
   "source": [
    "isPalindrome2(12321)"
   ]
  },
  {
   "cell_type": "code",
   "execution_count": null,
   "metadata": {},
   "outputs": [],
   "source": []
  }
 ],
 "metadata": {
  "kernelspec": {
   "display_name": "Python 3",
   "language": "python",
   "name": "python3"
  },
  "language_info": {
   "codemirror_mode": {
    "name": "ipython",
    "version": 3
   },
   "file_extension": ".py",
   "mimetype": "text/x-python",
   "name": "python",
   "nbconvert_exporter": "python",
   "pygments_lexer": "ipython3",
   "version": "3.6.8"
  }
 },
 "nbformat": 4,
 "nbformat_minor": 2
}
