{
 "cells": [
  {
   "cell_type": "markdown",
   "metadata": {},
   "source": [
    "<h1> Problem</h1>\n",
    "Count the number of prime numbers less than a non-negative number, n."
   ]
  },
  {
   "cell_type": "markdown",
   "metadata": {},
   "source": [
    "<p>Example:</p>\n",
    "<p>Input: 10</p>\n",
    "<p>Output: 4</p>\n",
    "<p>Explanation: There are 4 prime numbers less than 10, they are 2, 3, 5, 7.</p>"
   ]
  },
  {
   "cell_type": "markdown",
   "metadata": {},
   "source": [
    "<h2>1st idea</h2>\n",
    "<ul> \n",
    "    <li>write two loops, the first one indicates the number that smaller than the target, the second to determine whether it is prime number.</li>\n",
    "    <li>this idea utilize complement，prime number is the complement of not prime numbers.</li>\n",
    "    <li>according to the problem description, we need to find prime number smaller than itself, so we can minus 2 excluding 1 and itself.</li>\n",
    "    <li>morover, we have to consider extreme conditions, like n==0 and n==1</li>\n",
    "</ul>"
   ]
  },
  {
   "cell_type": "code",
   "execution_count": 8,
   "metadata": {},
   "outputs": [],
   "source": [
    "def countPrimes(n):\n",
    "    count = 0\n",
    "    if n == 0:\n",
    "        return 0\n",
    "    elif n == 1:\n",
    "        return 0\n",
    "    else:\n",
    "        for i in range(2, n):\n",
    "            for j in range(2, i):\n",
    "                if i%j == 0:\n",
    "                    count += 1\n",
    "                    break\n",
    "    return n-count-2          "
   ]
  },
  {
   "cell_type": "code",
   "execution_count": 9,
   "metadata": {},
   "outputs": [
    {
     "data": {
      "text/plain": [
       "0"
      ]
     },
     "execution_count": 9,
     "metadata": {},
     "output_type": "execute_result"
    }
   ],
   "source": [
    "countPrimes(2)"
   ]
  },
  {
   "cell_type": "code",
   "execution_count": 10,
   "metadata": {},
   "outputs": [
    {
     "data": {
      "text/plain": [
       "4"
      ]
     },
     "execution_count": 10,
     "metadata": {},
     "output_type": "execute_result"
    }
   ],
   "source": [
    "countPrimes(10)"
   ]
  },
  {
   "cell_type": "markdown",
   "metadata": {},
   "source": [
    "or we can try to save some time in the second loop, because any number can't be int(n/2)+1"
   ]
  },
  {
   "cell_type": "code",
   "execution_count": null,
   "metadata": {},
   "outputs": [],
   "source": [
    "def countPrimes1(n):\n",
    "    count = 0\n",
    "    if n == 0:\n",
    "        return 0\n",
    "    elif n == 1:\n",
    "        return 0\n",
    "    else:\n",
    "        for i in range(2, n):\n",
    "            for j in range(2, int(n/2)+1):\n",
    "                if i%j == 0:\n",
    "                    count += 1\n",
    "                    break\n",
    "    return n-count-2  "
   ]
  },
  {
   "cell_type": "markdown",
   "metadata": {},
   "source": [
    "<h3>2nd idea: Sieve of Eratosthenes </h3>\n",
    "<ul>\n",
    "    <li>If the largest number on your map is N, then you only need to check up to √N.  After that, all of the remaining blanks are primes.</li>\n",
    "    <li>Run a loop from 2 to sqrt(n) and check if any number in range (2,sqrt(n)) divides n.</li>\n",
    "    \n",
    "</ul>"
   ]
  },
  {
   "cell_type": "code",
   "execution_count": 13,
   "metadata": {},
   "outputs": [],
   "source": [
    "import math"
   ]
  },
  {
   "cell_type": "code",
   "execution_count": 32,
   "metadata": {},
   "outputs": [],
   "source": [
    "def countPrimes2(n):\n",
    "    count = 0\n",
    "    if n == 0:\n",
    "        return 0\n",
    "    elif n == 1:\n",
    "        return 0\n",
    "    else:\n",
    "        for i in range(2, n):\n",
    "            for j in range(2,int(math.sqrt(i))+1):\n",
    "                if i%j == 0:\n",
    "                    count += 1\n",
    "                    break\n",
    "    return n-count-2  "
   ]
  },
  {
   "cell_type": "code",
   "execution_count": 33,
   "metadata": {},
   "outputs": [
    {
     "data": {
      "text/plain": [
       "4"
      ]
     },
     "execution_count": 33,
     "metadata": {},
     "output_type": "execute_result"
    }
   ],
   "source": [
    "countPrimes2(10)"
   ]
  },
  {
   "cell_type": "code",
   "execution_count": 34,
   "metadata": {},
   "outputs": [],
   "source": [
    "def countPrimes3(n):\n",
    "    if n <= 2:\n",
    "        return 0\n",
    "    primes = [True]*n\n",
    "    primes[0]= False\n",
    "    primes[1]= False\n",
    "    p = 0 # p is the current position\n",
    "    while p*p <= n: # p < = sqrt(n)\n",
    "        if primes[p]:\n",
    "            for i in range(p*2,n,p):\n",
    "                primes[i] = False\n",
    "        p += 1\n",
    "    return sum(primes)"
   ]
  },
  {
   "cell_type": "markdown",
   "metadata": {},
   "source": [
    "<p>notes</p>\n",
    "<p>at first consider extrem conditions, when n == 0 and n == 1</p>\n",
    "<p>next creat a list contain </p>"
   ]
  },
  {
   "cell_type": "code",
   "execution_count": 35,
   "metadata": {},
   "outputs": [
    {
     "data": {
      "text/plain": [
       "4"
      ]
     },
     "execution_count": 35,
     "metadata": {},
     "output_type": "execute_result"
    }
   ],
   "source": [
    "countPrimes3(10)"
   ]
  },
  {
   "cell_type": "code",
   "execution_count": null,
   "metadata": {},
   "outputs": [],
   "source": []
  }
 ],
 "metadata": {
  "kernelspec": {
   "display_name": "Python 3",
   "language": "python",
   "name": "python3"
  },
  "language_info": {
   "codemirror_mode": {
    "name": "ipython",
    "version": 3
   },
   "file_extension": ".py",
   "mimetype": "text/x-python",
   "name": "python",
   "nbconvert_exporter": "python",
   "pygments_lexer": "ipython3",
   "version": "3.7.3"
  }
 },
 "nbformat": 4,
 "nbformat_minor": 2
}
