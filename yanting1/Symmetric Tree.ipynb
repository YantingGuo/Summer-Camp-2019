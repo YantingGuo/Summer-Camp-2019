{
 "cells": [
  {
   "cell_type": "markdown",
   "metadata": {},
   "source": [
    "# Problem:\n",
    "\n",
    "Given a binary tree, check whether it is a mirror of itself (ie, symmetric around its center).\n",
    "\n",
    "For example, this binary tree [1,2,2,3,4,4,3] is symmetric, but [1,2,2,null,3,null,3] is not."
   ]
  },
  {
   "cell_type": "markdown",
   "metadata": {},
   "source": [
    "At first, we should know what is symmetric in binary tree.\n",
    "A tree is symmetric if the left subtree is a mirror reflection of the right subtree.\n",
    "there are two ways to check:\n",
    "1, same value.\n",
    "2, The right subtree of each tree is a mirror reflection of the left subtree of the other tree."
   ]
  },
  {
   "cell_type": "markdown",
   "metadata": {},
   "source": [
    "Binary Tree\n",
    "A tree has at most 2 children, which called the left and right child.\n",
    "One reason to use trees might be because you want to store information that naturally forms a hierarchy. \n",
    "Initiation:\n",
    "class Node: \n",
    "    def __init__(self,key): \n",
    "        self.left = None\n",
    "        self.right = None\n",
    "        self.val = key \n",
    "Create root \n",
    "root = Node(1) \n",
    "root.left = Node(2)\n",
    "root.right = Node(3)\n",
    "root.left.left  = Node(4)"
   ]
  },
  {
   "cell_type": "markdown",
   "metadata": {},
   "source": [
    "Initiation:\n",
    "```\n",
    "    class Node: \n",
    "        def __init__(self,key): \n",
    "            self.left = None\n",
    "            self.right = None\n",
    "            self.val = key \n",
    "```"
   ]
  },
  {
   "cell_type": "markdown",
   "metadata": {},
   "source": [
    "Create root\n",
    "```\n",
    "root = Node(1) \n",
    "root.left = Node(2)\n",
    "root.right = Node(3)\n",
    "root.left.left  = Node(4)\n",
    "```"
   ]
  },
  {
   "cell_type": "markdown",
   "metadata": {},
   "source": [
    "# Solution 1 Recursion"
   ]
  },
  {
   "cell_type": "code",
   "execution_count": 10,
   "metadata": {},
   "outputs": [],
   "source": [
    "class Solution:\n",
    "    def __init__(self, key):\n",
    "        self.val = key\n",
    "        self.right = None\n",
    "        self.left = None   \n",
    "    def mirror(self,a,b):\n",
    "        if not a and not b:\n",
    "            return True\n",
    "        if not a or not b:\n",
    "            return False\n",
    "        return a.val == b.val and self.mirror(a.left, b.right) and self.mirror(a.right,b.left)\n",
    "    def isSymmetric(self,root):\n",
    "        if not root:\n",
    "            return True\n",
    "        return self.mirror(root.left,root.right)"
   ]
  },
  {
   "cell_type": "markdown",
   "metadata": {},
   "source": [
    "> for example, we need to check root is null or nor, not none return true\n",
    "\n",
    "> for the first two children, if they are both none, return true. either is none will return Fales.\n",
    "\n",
    "> Then compare the values of two children and The right subtree of each tree is a mirror reflection of the left subtree of the other tree or not.\n",
    "\n",
    "> in the next step,\n",
    "\n",
    "> two comparsions:\n",
    "\n",
    "> a= a.left b= b.right ---> self.mirror(a.left.left, b.right.right) and self.mirror(a.left.right,b.right.left)\n",
    "\n",
    "> a = a.right b = b.left ---> self.mirror(a.right.left, b.left.right) and self.mirror(a.right.right, b.left.left)\n"
   ]
  },
  {
   "cell_type": "code",
   "execution_count": null,
   "metadata": {},
   "outputs": [],
   "source": []
  }
 ],
 "metadata": {
  "kernelspec": {
   "display_name": "Python 3",
   "language": "python",
   "name": "python3"
  },
  "language_info": {
   "codemirror_mode": {
    "name": "ipython",
    "version": 3
   },
   "file_extension": ".py",
   "mimetype": "text/x-python",
   "name": "python",
   "nbconvert_exporter": "python",
   "pygments_lexer": "ipython3",
   "version": "3.7.3"
  }
 },
 "nbformat": 4,
 "nbformat_minor": 2
}
